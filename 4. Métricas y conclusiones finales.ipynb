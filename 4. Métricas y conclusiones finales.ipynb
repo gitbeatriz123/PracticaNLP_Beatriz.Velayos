{
 "cells": [
  {
   "cell_type": "markdown",
   "metadata": {
    "id": "NBU-W0A01Bg6"
   },
   "source": [
    "**4. Métricas y conclusiones finales**"
   ]
  },
  {
   "cell_type": "code",
   "execution_count": null,
   "metadata": {
    "colab": {
     "base_uri": "https://localhost:8080/"
    },
    "id": "VGhHLZU-0Q0M",
    "outputId": "8dc5c16a-b449-42ef-f441-c903298ccd8c"
   },
   "outputs": [
    {
     "name": "stdout",
     "output_type": "stream",
     "text": [
      "Requirement already satisfied: pandas in /usr/local/lib/python3.11/dist-packages (2.2.2)\n",
      "Requirement already satisfied: scikit-learn in /usr/local/lib/python3.11/dist-packages (1.6.1)\n",
      "Requirement already satisfied: matplotlib in /usr/local/lib/python3.11/dist-packages (3.10.0)\n",
      "Requirement already satisfied: seaborn in /usr/local/lib/python3.11/dist-packages (0.13.2)\n",
      "Requirement already satisfied: numpy>=1.23.2 in /usr/local/lib/python3.11/dist-packages (from pandas) (2.0.2)\n",
      "Requirement already satisfied: python-dateutil>=2.8.2 in /usr/local/lib/python3.11/dist-packages (from pandas) (2.9.0.post0)\n",
      "Requirement already satisfied: pytz>=2020.1 in /usr/local/lib/python3.11/dist-packages (from pandas) (2025.2)\n",
      "Requirement already satisfied: tzdata>=2022.7 in /usr/local/lib/python3.11/dist-packages (from pandas) (2025.2)\n",
      "Requirement already satisfied: scipy>=1.6.0 in /usr/local/lib/python3.11/dist-packages (from scikit-learn) (1.15.3)\n",
      "Requirement already satisfied: joblib>=1.2.0 in /usr/local/lib/python3.11/dist-packages (from scikit-learn) (1.5.1)\n",
      "Requirement already satisfied: threadpoolctl>=3.1.0 in /usr/local/lib/python3.11/dist-packages (from scikit-learn) (3.6.0)\n",
      "Requirement already satisfied: contourpy>=1.0.1 in /usr/local/lib/python3.11/dist-packages (from matplotlib) (1.3.2)\n",
      "Requirement already satisfied: cycler>=0.10 in /usr/local/lib/python3.11/dist-packages (from matplotlib) (0.12.1)\n",
      "Requirement already satisfied: fonttools>=4.22.0 in /usr/local/lib/python3.11/dist-packages (from matplotlib) (4.58.4)\n",
      "Requirement already satisfied: kiwisolver>=1.3.1 in /usr/local/lib/python3.11/dist-packages (from matplotlib) (1.4.8)\n",
      "Requirement already satisfied: packaging>=20.0 in /usr/local/lib/python3.11/dist-packages (from matplotlib) (24.2)\n",
      "Requirement already satisfied: pillow>=8 in /usr/local/lib/python3.11/dist-packages (from matplotlib) (11.2.1)\n",
      "Requirement already satisfied: pyparsing>=2.3.1 in /usr/local/lib/python3.11/dist-packages (from matplotlib) (3.2.3)\n",
      "Requirement already satisfied: six>=1.5 in /usr/local/lib/python3.11/dist-packages (from python-dateutil>=2.8.2->pandas) (1.17.0)\n"
     ]
    }
   ],
   "source": [
    "# Instalación de librerías\n",
    "\n",
    "!pip install pandas scikit-learn matplotlib seaborn"
   ]
  },
  {
   "cell_type": "code",
   "execution_count": null,
   "metadata": {
    "colab": {
     "base_uri": "https://localhost:8080/",
     "height": 671
    },
    "id": "c8D9wdBB1U89",
    "outputId": "74e21351-a6b7-4b59-ec66-2957af8663f4"
   },
   "outputs": [
    {
     "name": "stdout",
     "output_type": "stream",
     "text": [
      "Descargando dataset...\n",
      "=== Métricas del modelo seleccionado (Regresión Logística) ===\n",
      "              precision    recall  f1-score   support\n",
      "\n",
      "    Negativa     0.6205    0.6877    0.6523       397\n",
      "    Positiva     0.9606    0.9477    0.9541      3193\n",
      "\n",
      "    accuracy                         0.9189      3590\n",
      "   macro avg     0.7905    0.8177    0.8032      3590\n",
      "weighted avg     0.9230    0.9189    0.9207      3590\n",
      "\n",
      "Accuracy: 0.9189\n",
      "F1-score: 0.9541\n",
      "Recall: 0.9477\n",
      "Precisión: 0.9606\n"
     ]
    },
    {
     "data": {
      "image/png": "[encoded data removed]",
      "text/plain": [
       "<Figure size 500x400 with 2 Axes>"
      ]
     },
     "metadata": {},
     "output_type": "display_data"
    }
   ],
   "source": [
    "# Importaciones y carga del dataset\n",
    "\n",
    "import pandas as pd\n",
    "import gzip\n",
    "import urllib.request\n",
    "import json\n",
    "import os\n",
    "import string\n",
    "from sklearn.feature_extraction.text import ENGLISH_STOP_WORDS, CountVectorizer\n",
    "from sklearn.model_selection import train_test_split\n",
    "from sklearn.linear_model import LogisticRegression\n",
    "from sklearn.metrics import classification_report, confusion_matrix, accuracy_score, f1_score, recall_score, precision_score\n",
    "from matplotlib import pyplot as plt\n",
    "import seaborn as sns\n",
    "import re\n",
    "\n",
    "url = \"http://snap.stanford.edu/data/amazon/productGraph/categoryFiles/reviews_Books_5.json.gz\"\n",
    "ruta_local = \"reviews_Books_5.json.gz\"\n",
    "if not os.path.exists(ruta_local):\n",
    "    print(\"Descargando dataset...\")\n",
    "    urllib.request.urlretrieve(url, ruta_local)\n",
    "def cargar_reviews_amazon(path, n_muestras=20000):\n",
    "    data = []\n",
    "    with gzip.open(path, 'rt') as f:\n",
    "        for i, line in enumerate(f):\n",
    "            data.append(json.loads(line))\n",
    "            if i+1 >= n_muestras:\n",
    "                break\n",
    "    return pd.DataFrame(data)\n",
    "df = cargar_reviews_amazon(ruta_local, n_muestras=20000)\n",
    "\n",
    "def etiqueta_sentimiento(star):\n",
    "    if star >= 4:\n",
    "        return 'Positiva'\n",
    "    elif star <= 2:\n",
    "        return 'Negativa'\n",
    "    else:\n",
    "        return 'Neutral'\n",
    "df['sentimiento'] = df['overall'].apply(etiqueta_sentimiento)\n",
    "\n",
    "def preprocesar_texto(texto):\n",
    "    texto = str(texto).lower()\n",
    "    texto = texto.translate(str.maketrans('', '', string.punctuation + '0123456789'))\n",
    "    tokens = re.findall(r'\\b\\w+\\b', texto)\n",
    "    tokens = [t for t in tokens if t not in ENGLISH_STOP_WORDS and len(t) > 1]\n",
    "    return ' '.join(tokens)\n",
    "df['reviewText_proc'] = df['reviewText'].astype(str).apply(preprocesar_texto)\n",
    "\n",
    "df_binario = df[df['sentimiento'].isin(['Positiva', 'Negativa'])].copy()\n",
    "df_binario['sentimiento_bin'] = (df_binario['sentimiento'] == 'Positiva').astype(int)\n",
    "\n",
    "X = df_binario['reviewText_proc'].values\n",
    "y = df_binario['sentimiento_bin'].values\n",
    "\n",
    "X_train, X_test, y_train, y_test = train_test_split(\n",
    "    X, y, test_size=0.2, random_state=42, stratify=y\n",
    ")\n",
    "\n",
    "vectorizer = CountVectorizer(min_df=5, max_df=0.8)\n",
    "X_train_bow = vectorizer.fit_transform(X_train)\n",
    "X_test_bow = vectorizer.transform(X_test)\n",
    "\n",
    "modelo_lr = LogisticRegression(max_iter=200, class_weight='balanced', random_state=42)\n",
    "modelo_lr.fit(X_train_bow, y_train)\n",
    "y_pred = modelo_lr.predict(X_test_bow)\n",
    "\n",
    "print(\"=== Métricas del modelo seleccionado (Regresión Logística) ===\")\n",
    "print(classification_report(y_test, y_pred, target_names=['Negativa', 'Positiva'], digits=4))\n",
    "accuracy = accuracy_score(y_test, y_pred)\n",
    "f1 = f1_score(y_test, y_pred)\n",
    "recall = recall_score(y_test, y_pred)\n",
    "precision = precision_score(y_test, y_pred)\n",
    "print(f\"Accuracy: {accuracy:.4f}\")\n",
    "print(f\"F1-score: {f1:.4f}\")\n",
    "print(f\"Recall: {recall:.4f}\")\n",
    "print(f\"Precisión: {precision:.4f}\")\n",
    "\n",
    "cm = confusion_matrix(y_test, y_pred)\n",
    "plt.figure(figsize=(5,4))\n",
    "sns.heatmap(cm, annot=True, fmt=\"d\", cmap=\"Blues\", xticklabels=['Negativa', 'Positiva'], yticklabels=['Negativa', 'Positiva'])\n",
    "plt.title('Matriz de confusión del modelo seleccionado')\n",
    "plt.xlabel('Predicho')\n",
    "plt.ylabel('Real')\n",
    "plt.show()"
   ]
  },
  {
   "cell_type": "code",
   "execution_count": null,
   "metadata": {
    "colab": {
     "base_uri": "https://localhost:8080/"
    },
    "id": "nJ2px1t84pvD",
    "outputId": "7860b052-e1a6-424a-acfb-03fc1a86b600"
   },
   "outputs": [
    {
     "name": "stdout",
     "output_type": "stream",
     "text": [
      "\n",
      "CONCLUSIONES FINALES:\n",
      "- El modelo de Regresión Logística ha alcanzado un accuracy global del 91,9%, lo que indica una alta capacidad para clasificar correctamente el sentimiento general de las reviews.\n",
      "- La precisión y el f1-score para las reviews positivas son muy altos (>0,95), lo que demuestra que el modelo es excelente identificando opiniones favorables, que además son la clase mayoritaria en el dataset.\n",
      "- Para la clase negativa, aunque las métricas son significativamente menores (precisión 0.62, recall 0.68, f1-score 0.65), el modelo consigue detectar la mayoría de las opiniones negativas, aunque comete más errores confundiendo negativas con positivas. \n",
      "  Esto puede deberse al desbalance de clases y a la posible menor variedad de lenguaje en las opiniones negativas.\n",
      "- El desbalance entre clases (más del 85% positivas) ha influido en el resultado, haciendo que el modelo esté especialmente optimizado para la clase mayoritaria. Para usos donde la detección de negativas sea crítica, convendría aplicar técnicas de balanceo, ajuste de umbral o reponderación.\n",
      "- En resumen:  \n",
      "    - El modelo es muy fiable para opiniones positivas, y razonablemente útil para negativas.\n",
      "    - Como mejoras para el futuro:  \n",
      "      - Aplicar técnicas de balanceo de clases (oversampling, undersampling o SMOTE)\n",
      "      - Probar modelos alternativos como árboles de decisión, random forest, o modelos más avanzados (BERT, etc.)\n",
      "      - Utilizar métricas específicas para la clase minoritaria en la optimización.\n",
      "\n",
      "\n"
     ]
    }
   ],
   "source": [
    "#. Conclusiones finales\n",
    "\n",
    "print(\"\"\"\n",
    "CONCLUSIONES FINALES:\n",
    "- El modelo de Regresión Logística ha alcanzado un accuracy global del 91,9%, lo que indica una alta capacidad para clasificar correctamente el sentimiento general de las reviews.\n",
    "- La precisión y el f1-score para las reviews positivas son muy altos (>0,95), lo que demuestra que el modelo es excelente identificando opiniones favorables, que además son la clase mayoritaria en el dataset.\n",
    "- Para la clase negativa, aunque las métricas son significativamente menores (precisión 0.62, recall 0.68, f1-score 0.65), el modelo consigue detectar la mayoría de las opiniones negativas, aunque comete más errores confundiendo negativas con positivas.\n",
    "  Esto puede deberse al desbalance de clases y a la posible menor variedad de lenguaje en las opiniones negativas.\n",
    "- El desbalance entre clases (más del 85% positivas) ha influido en el resultado, haciendo que el modelo esté especialmente optimizado para la clase mayoritaria. Para usos donde la detección de negativas sea crítica, convendría aplicar técnicas de balanceo, ajuste de umbral o reponderación.\n",
    "- En resumen:\n",
    "    - El modelo es muy fiable para opiniones positivas, y razonablemente útil para negativas.\n",
    "    - Como mejoras para el futuro:\n",
    "      - Aplicar técnicas de balanceo de clases (oversampling, undersampling o SMOTE)\n",
    "      - Probar modelos alternativos como árboles de decisión, random forest, o modelos más avanzados (BERT, etc.)\n",
    "      - Utilizar métricas específicas para la clase minoritaria en la optimización.\n",
    "\n",
    "\"\"\")"
   ]
  }
 ],
 "metadata": {
  "accelerator": "GPU",
  "colab": {
   "gpuType": "T4",
   "provenance": []
  },
  "kernelspec": {
   "display_name": "Python 3 (ipykernel)",
   "language": "python",
   "name": "python3"
  },
  "language_info": {
   "codemirror_mode": {
    "name": "ipython",
    "version": 3
   },
   "file_extension": ".py",
   "mimetype": "text/x-python",
   "name": "python",
   "nbconvert_exporter": "python",
   "pygments_lexer": "ipython3",
   "version": "3.12.5"
  }
 },
 "nbformat": 4,
 "nbformat_minor": 4
}
